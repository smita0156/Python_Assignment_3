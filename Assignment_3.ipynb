{
 "cells": [
  {
   "cell_type": "code",
   "execution_count": null,
   "id": "53e818a2-0b27-454f-8d3d-4f3cc291cae1",
   "metadata": {},
   "outputs": [],
   "source": [
    "Ans1. #Advantages of having functions:\n",
    "#Functions reduce the need for duplicate code. This makes programs shorter, easier to read, and easier to update."
   ]
  },
  {
   "cell_type": "code",
   "execution_count": null,
   "id": "ab7ddab6-6236-4be5-bdf8-6d45630bb415",
   "metadata": {},
   "outputs": [],
   "source": []
  },
  {
   "cell_type": "code",
   "execution_count": null,
   "id": "84325bfc-ac6d-498c-84b2-d31261ed5a3f",
   "metadata": {},
   "outputs": [],
   "source": [
    "Ans2.# Code in the function runs when the function is called or specified to funtion."
   ]
  },
  {
   "cell_type": "code",
   "execution_count": null,
   "id": "c10205cd-90c4-496f-bffe-372cc9b28f2a",
   "metadata": {},
   "outputs": [],
   "source": []
  },
  {
   "cell_type": "code",
   "execution_count": null,
   "id": "26e7653f-c491-4dae-acfe-3b77fb2c276a",
   "metadata": {},
   "outputs": [],
   "source": [
    "Ans3. #The def statement defines (i.e. creates) a function.\n",
    "# Eg .\n",
    " def my_func():\n",
    "pass"
   ]
  },
  {
   "cell_type": "code",
   "execution_count": null,
   "id": "db8e59ad-0040-4047-8932-43af922d03f4",
   "metadata": {},
   "outputs": [],
   "source": []
  },
  {
   "cell_type": "code",
   "execution_count": null,
   "id": "bb68d1ca-47df-499a-b22f-42e066a1981c",
   "metadata": {},
   "outputs": [],
   "source": [
    "Ans4. # eg def of func\n",
    "def my_func(): \n",
    "    pass \n",
    "my_func() #calling of function"
   ]
  },
  {
   "cell_type": "code",
   "execution_count": null,
   "id": "f3314fb4-7831-4839-ae68-da1b45268667",
   "metadata": {},
   "outputs": [],
   "source": [
    "Ans4. # A function consists of the def statement and the code in its def clause.\n",
    "\n",
    "# A function call is what moves the program execution into the function, and the function call evaluates to the function's return value."
   ]
  },
  {
   "cell_type": "code",
   "execution_count": null,
   "id": "32bc6570-40d4-46ea-b724-fa994bdb6d0c",
   "metadata": {},
   "outputs": [],
   "source": []
  },
  {
   "cell_type": "code",
   "execution_count": null,
   "id": "be179245-90dc-4d1a-9ece-828110e12142",
   "metadata": {},
   "outputs": [],
   "source": [
    "Ans5. # There's only one global Python scope per program execution. This scope remains in existence until the program terminates , and a local scope is created whenever a function is called."
   ]
  },
  {
   "cell_type": "code",
   "execution_count": null,
   "id": "cca50c69-c50a-4f6f-b0ab-41a3711e9125",
   "metadata": {},
   "outputs": [],
   "source": []
  },
  {
   "cell_type": "code",
   "execution_count": null,
   "id": "c1c5fd7c-179e-4019-be31-f0e365851a12",
   "metadata": {},
   "outputs": [],
   "source": [
    "Ans6. # When a function returns, the local scope is destroyed."
   ]
  },
  {
   "cell_type": "code",
   "execution_count": null,
   "id": "e1e41e31-ab75-4734-b91f-1a2cd8356cdb",
   "metadata": {},
   "outputs": [],
   "source": []
  },
  {
   "cell_type": "code",
   "execution_count": null,
   "id": "f82ecba3-9935-4e6c-83c5-93b614908b81",
   "metadata": {},
   "outputs": [],
   "source": [
    "Ans7.# A return value is the value that a function call evaluates to. Like any value, a return value can be used as part of an expression."
   ]
  },
  {
   "cell_type": "code",
   "execution_count": null,
   "id": "ad726ff2-efd0-4f81-b602-e52fa3597ea9",
   "metadata": {},
   "outputs": [],
   "source": []
  },
  {
   "cell_type": "code",
   "execution_count": null,
   "id": "cae88dc5-bc29-404e-9c1d-e3f094ddcf84",
   "metadata": {},
   "outputs": [],
   "source": [
    "Ans8. # If the funtion does not have a return statement it will not return anything."
   ]
  },
  {
   "cell_type": "code",
   "execution_count": null,
   "id": "31c35c1c-a857-4141-b326-0ab10b8b1e22",
   "metadata": {},
   "outputs": [],
   "source": []
  },
  {
   "cell_type": "code",
   "execution_count": null,
   "id": "e6eb6e68-a8f9-42ad-9b8b-2beaba7fb407",
   "metadata": {},
   "outputs": [],
   "source": [
    "Ans9. # To make function variable as a global variable you can use the global keyword to declare which variables are global."
   ]
  },
  {
   "cell_type": "code",
   "execution_count": null,
   "id": "d30f2374-bbf7-44b2-bb7b-d7b4bebb20bf",
   "metadata": {},
   "outputs": [],
   "source": []
  },
  {
   "cell_type": "code",
   "execution_count": null,
   "id": "8f6ee5fa-d329-496b-a2e9-207fc77adbc0",
   "metadata": {},
   "outputs": [],
   "source": [
    "Ans10. # The data type of None is NoneType."
   ]
  },
  {
   "cell_type": "code",
   "execution_count": null,
   "id": "1a295183-8a6d-40c2-ab63-a5f070005b33",
   "metadata": {},
   "outputs": [],
   "source": []
  },
  {
   "cell_type": "code",
   "execution_count": null,
   "id": "a1439754-9dc2-4784-ad24-7cad4728d68b",
   "metadata": {},
   "outputs": [],
   "source": [
    "Ans11.# That import statement imports a module named areallyourpetsnamederic. (But a module of this name doesnt exists in Python)"
   ]
  },
  {
   "cell_type": "code",
   "execution_count": null,
   "id": "38f5c68f-3f0e-40a3-8791-bffe62579744",
   "metadata": {},
   "outputs": [],
   "source": []
  },
  {
   "cell_type": "code",
   "execution_count": null,
   "id": "d32e0666-041a-4515-a96d-396acdae48f8",
   "metadata": {},
   "outputs": [],
   "source": [
    "Ans12. # .import spam\n",
    "spam.bacon()"
   ]
  },
  {
   "cell_type": "code",
   "execution_count": null,
   "id": "630fecff-d596-42e1-a95f-2597408d2068",
   "metadata": {},
   "outputs": [],
   "source": []
  },
  {
   "cell_type": "code",
   "execution_count": null,
   "id": "248ae8b5-59d5-42d8-9dff-906624988a7a",
   "metadata": {},
   "outputs": [],
   "source": [
    "Ans13. # We can use try except clause to save a program from crashing."
   ]
  },
  {
   "cell_type": "code",
   "execution_count": null,
   "id": "7088a8ce-8dc0-461e-967e-7ec0de662ed7",
   "metadata": {},
   "outputs": [],
   "source": []
  },
  {
   "cell_type": "code",
   "execution_count": null,
   "id": "04f7530b-02fd-49ec-95ca-de8cfee30612",
   "metadata": {},
   "outputs": [],
   "source": [
    "Ans14. # Try and Except clause is used to handle the errors within our code . The try block is used to check some code for errors i.e the code inside the try block will execute when there is no error in the program. Whereas the code inside the except block will execute whenever the program encounters some error in the try block.\n",
    "\n",
    "Eg. try:\n",
    "# Code\n",
    "except:\n",
    "# Executed if error in the\n",
    "# try block"
   ]
  },
  {
   "cell_type": "code",
   "execution_count": null,
   "id": "2d47db72-a3c4-4bd0-b9a4-a267fb6bdcd8",
   "metadata": {},
   "outputs": [],
   "source": []
  },
  {
   "cell_type": "code",
   "execution_count": null,
   "id": "adde99b8-08c2-4236-be59-c01c816a9631",
   "metadata": {},
   "outputs": [],
   "source": []
  },
  {
   "cell_type": "code",
   "execution_count": null,
   "id": "d4a7627e-59b0-4c6b-943d-c01225ec241b",
   "metadata": {},
   "outputs": [],
   "source": []
  },
  {
   "cell_type": "code",
   "execution_count": null,
   "id": "5b0ce424-c63d-4a77-aefa-f37f9e45507a",
   "metadata": {},
   "outputs": [],
   "source": []
  },
  {
   "cell_type": "code",
   "execution_count": null,
   "id": "1eb86405-dc3a-4b9a-b8ba-7f02dd7cbcce",
   "metadata": {},
   "outputs": [],
   "source": []
  },
  {
   "cell_type": "code",
   "execution_count": null,
   "id": "629a1eab-b7f1-42a0-b5d6-d5a62d14a331",
   "metadata": {},
   "outputs": [],
   "source": []
  },
  {
   "cell_type": "code",
   "execution_count": null,
   "id": "71554905-bea4-4999-9913-5be91368ae49",
   "metadata": {},
   "outputs": [],
   "source": []
  }
 ],
 "metadata": {
  "kernelspec": {
   "display_name": "Python 3 (ipykernel)",
   "language": "python",
   "name": "python3"
  },
  "language_info": {
   "codemirror_mode": {
    "name": "ipython",
    "version": 3
   },
   "file_extension": ".py",
   "mimetype": "text/x-python",
   "name": "python",
   "nbconvert_exporter": "python",
   "pygments_lexer": "ipython3",
   "version": "3.10.6"
  }
 },
 "nbformat": 4,
 "nbformat_minor": 5
}
